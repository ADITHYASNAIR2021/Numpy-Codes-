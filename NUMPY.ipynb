{
 "cells": [
  {
   "cell_type": "markdown",
   "metadata": {},
   "source": [
    "** NUMPY ASSISMENT **"
   ]
  },
  {
   "cell_type": "code",
   "execution_count": 54,
   "metadata": {},
   "outputs": [],
   "source": [
    "import numpy as np"
   ]
  },
  {
   "cell_type": "markdown",
   "metadata": {},
   "source": [
    "Simple codes = "
   ]
  },
  {
   "cell_type": "code",
   "execution_count": 55,
   "metadata": {},
   "outputs": [
    {
     "name": "stdout",
     "output_type": "stream",
     "text": [
      "[1, 2, 4, 3]\n"
     ]
    }
   ],
   "source": [
    "#Simplest way to create an array in Numpy is to use Python List\n",
    "a = [1,2,4,3]\n",
    "print(a)"
   ]
  },
  {
   "cell_type": "code",
   "execution_count": 56,
   "metadata": {},
   "outputs": [
    {
     "data": {
      "text/plain": [
       "array([1, 2, 4, 3])"
      ]
     },
     "execution_count": 56,
     "metadata": {},
     "output_type": "execute_result"
    }
   ],
   "source": [
    "#List to array\n",
    "b=np.array(a)\n",
    "b"
   ]
  },
  {
   "cell_type": "code",
   "execution_count": 57,
   "metadata": {},
   "outputs": [
    {
     "data": {
      "text/plain": [
       "array([1, 2, 3, 4])"
      ]
     },
     "execution_count": 57,
     "metadata": {},
     "output_type": "execute_result"
    }
   ],
   "source": [
    "#list to array\n",
    "c=np.array([1,2,3,4])\n",
    "c"
   ]
  },
  {
   "cell_type": "code",
   "execution_count": 58,
   "metadata": {},
   "outputs": [
    {
     "data": {
      "text/plain": [
       "array([11, 12, 14, 13])"
      ]
     },
     "execution_count": 58,
     "metadata": {},
     "output_type": "execute_result"
    }
   ],
   "source": [
    "#adding number to the list given\n",
    "d=b+10\n",
    "d"
   ]
  },
  {
   "cell_type": "code",
   "execution_count": 59,
   "metadata": {},
   "outputs": [
    {
     "name": "stdout",
     "output_type": "stream",
     "text": [
      "(6,)\n",
      "int32\n"
     ]
    }
   ],
   "source": [
    "#shape is used to get the rows and column in the string and dtype is used to get  the datatype of the input \n",
    "a=np.array([1,2,3,4,5,6])\n",
    "print(a.shape)\n",
    "print(a.dtype)\n"
   ]
  },
  {
   "cell_type": "code",
   "execution_count": 60,
   "metadata": {},
   "outputs": [
    {
     "name": "stdout",
     "output_type": "stream",
     "text": [
      "float64\n"
     ]
    }
   ],
   "source": [
    "#Float numbers \n",
    "b  = np.array([9.0,2.8,5.6,7.9])\n",
    "print(b.dtype)"
   ]
  },
  {
   "cell_type": "code",
   "execution_count": 61,
   "metadata": {},
   "outputs": [
    {
     "name": "stdout",
     "output_type": "stream",
     "text": [
      "(2, 2, 3)\n",
      "[[[ 1  2  3]\n",
      "  [ 4  5  6]]\n",
      "\n",
      " [[ 7  8  9]\n",
      "  [10 11 12]]]\n"
     ]
    }
   ],
   "source": [
    "d = np.array([\n",
    "    [[1, 2,3],\n",
    "    [4, 5, 6]],\n",
    "    [[7, 8,9],\n",
    "    [10, 11, 12]]\n",
    "])\n",
    "print(d.shape)\n",
    "print(d)"
   ]
  },
  {
   "cell_type": "code",
   "execution_count": 62,
   "metadata": {},
   "outputs": [
    {
     "name": "stdout",
     "output_type": "stream",
     "text": [
      "[[0 0 0 0]\n",
      " [0 0 0 0]\n",
      " [0 0 0 0]\n",
      " [0 0 0 0]]\n"
     ]
    }
   ],
   "source": [
    "#Making a zero metrix \n",
    "#(2,2)is 2 rows and columns and the dtype is the data type , which is not necessory ..\n",
    "import numpy as np\n",
    "x=np.zeros((4,4), dtype=np.int16)\n",
    "print(x)"
   ]
  },
  {
   "cell_type": "code",
   "execution_count": 63,
   "metadata": {},
   "outputs": [
    {
     "name": "stdout",
     "output_type": "stream",
     "text": [
      "(1, 2, 3)\n",
      "[[[1 1 1]\n",
      "  [1 1 1]]]\n"
     ]
    }
   ],
   "source": [
    "import numpy as np\n",
    "y=np.ones((1,2,3), dtype=np.int16)\n",
    "print(y.shape)\t\n",
    "print(y)"
   ]
  },
  {
   "cell_type": "code",
   "execution_count": 64,
   "metadata": {},
   "outputs": [
    {
     "name": "stdout",
     "output_type": "stream",
     "text": [
      "[[9 8 5]\n",
      " [4 3 6]]\n"
     ]
    },
    {
     "data": {
      "text/plain": [
       "array([[9, 8],\n",
       "       [5, 4],\n",
       "       [3, 6]])"
      ]
     },
     "execution_count": 64,
     "metadata": {},
     "output_type": "execute_result"
    }
   ],
   "source": [
    "#Reshaping the metrix of 2,3 to 3,2 .\n",
    "import numpy as np\n",
    "e  = np.array([(9,8,5), (4,3,6)])\n",
    "print(e)\n",
    "e.reshape(3,2)"
   ]
  },
  {
   "cell_type": "code",
   "execution_count": 65,
   "metadata": {},
   "outputs": [
    {
     "name": "stdout",
     "output_type": "stream",
     "text": [
      "[[9 8 5]\n",
      " [4 3 6]]\n"
     ]
    },
    {
     "data": {
      "text/plain": [
       "array([9, 8, 5, 4, 3, 6])"
      ]
     },
     "execution_count": 65,
     "metadata": {},
     "output_type": "execute_result"
    }
   ],
   "source": [
    "#Flatten the metrix .\n",
    "e  = np.array([(9,8,5), (4,3,6)])\n",
    "print(e)\n",
    "e.flatten()"
   ]
  },
  {
   "cell_type": "code",
   "execution_count": 66,
   "metadata": {},
   "outputs": [
    {
     "name": "stdout",
     "output_type": "stream",
     "text": [
      "Horizontal Append: [4 5 6 1 7 4]\n"
     ]
    }
   ],
   "source": [
    "## Horitzontal Stack\n",
    "import numpy as np\n",
    "a= np.array([4,5,6])\n",
    "b= np.array([1,7,4])\n",
    "print('Horizontal Append:', np.hstack((a,b)))"
   ]
  },
  {
   "cell_type": "code",
   "execution_count": 67,
   "metadata": {},
   "outputs": [
    {
     "name": "stdout",
     "output_type": "stream",
     "text": [
      "Vertical Append: [[4 5 6]\n",
      " [1 7 4]]\n"
     ]
    }
   ],
   "source": [
    "## Vertical Stack\n",
    "import numpy as np\n",
    "a= np.array([4,5,6])\n",
    "b= np.array([1,7,4])\n",
    "print('Vertical Append:', np.vstack((a,b)))"
   ]
  },
  {
   "cell_type": "code",
   "execution_count": 68,
   "metadata": {},
   "outputs": [
    {
     "name": "stdout",
     "output_type": "stream",
     "text": [
      "[ 8.91927398  9.99122985  9.51167986  9.61611184  9.90690917 11.02243157\n",
      " 10.52088279  9.65239641 10.03895968 10.40228625  9.06462415 10.21511346\n",
      "  8.35543581  9.1977735   9.22002431 10.05719978  8.78555878  8.6473875\n",
      "  8.13216912  9.3741472   8.76388175 10.93326269 10.4312768   9.9795162\n",
      "  9.65436846]\n"
     ]
    }
   ],
   "source": [
    "#To generate random numbers for Gaussian distribution use\n",
    "#numpy.random.normal(loc, scale, size)\n",
    "#Loc: the mean. The center of distribution\n",
    "#scale: standard deviation.\n",
    "#Size: number of returns\n",
    "normal_array = np.random.normal(10, 1, 25)\n",
    "print(normal_array)\t"
   ]
  },
  {
   "cell_type": "code",
   "execution_count": 69,
   "metadata": {},
   "outputs": [
    {
     "name": "stdout",
     "output_type": "stream",
     "text": [
      "[[1. 1. 1.]\n",
      " [1. 1. 1.]\n",
      " [1. 1. 1.]]\n"
     ]
    }
   ],
   "source": [
    "#ALL 1 array .\n",
    "import numpy as np \n",
    "a=np.array(np.ones((3,3)))\n",
    "print(a)"
   ]
  },
  {
   "cell_type": "code",
   "execution_count": 70,
   "metadata": {},
   "outputs": [
    {
     "name": "stdout",
     "output_type": "stream",
     "text": [
      "[[1. 1. 1.]\n",
      " [1. 1. 1.]\n",
      " [2. 2. 2.]]\n"
     ]
    }
   ],
   "source": [
    "# Asarray\n",
    "# The asarray()function is used when you want to convert an input to an array. The input could be a lists, tuple, ndarray, etc.\n",
    "# Syntax:\n",
    "# numpy.asarray(data, dtype=None, order=None)[source]\n",
    "# Here,\n",
    "# data: Data that you want to convert to an array\n",
    "# dtype: This is an optional argument. If not specified, the data type is inferred from the input data\n",
    "# Order: Default is C which is an essential row style. Other option is F (Fortan-style)\n",
    "\n",
    "np.asarray(a)[2]=2\n",
    "print(a)\n"
   ]
  },
  {
   "cell_type": "code",
   "execution_count": 71,
   "metadata": {},
   "outputs": [
    {
     "data": {
      "text/plain": [
       "array([  0,   2,   4,   6,   8,  10,  12,  14,  16,  18,  20,  22,  24,\n",
       "        26,  28,  30,  32,  34,  36,  38,  40,  42,  44,  46,  48,  50,\n",
       "        52,  54,  56,  58,  60,  62,  64,  66,  68,  70,  72,  74,  76,\n",
       "        78,  80,  82,  84,  86,  88,  90,  92,  94,  96,  98, 100, 102,\n",
       "       104, 106, 108, 110, 112, 114, 116, 118, 120, 122, 124, 126, 128,\n",
       "       130, 132, 134, 136, 138, 140, 142, 144, 146, 148, 150, 152, 154,\n",
       "       156, 158, 160, 162, 164, 166, 168, 170, 172, 174, 176, 178, 180,\n",
       "       182, 184, 186, 188, 190, 192, 194, 196, 198])"
      ]
     },
     "execution_count": 71,
     "metadata": {},
     "output_type": "execute_result"
    }
   ],
   "source": [
    "#numpy.arange() is an inbuilt numpy function that returns an ndarray object containing evenly spaced values within a defined interval. For instance, you want to create values from 1 to 10; you can use numpy.arange() function.\n",
    "#Syntax:\n",
    "#numpy.arange(start, stop,step) \n",
    "#Start: Start of interval\n",
    "#Stop: End of interval\n",
    "#Step: Spacing between values. Default step is 1\n",
    "\n",
    "a=np.arange(0,200,2)\n",
    "a"
   ]
  },
  {
   "cell_type": "code",
   "execution_count": 72,
   "metadata": {},
   "outputs": [
    {
     "name": "stdout",
     "output_type": "stream",
     "text": [
      "[  0.           2.02020202   4.04040404   6.06060606   8.08080808\n",
      "  10.1010101   12.12121212  14.14141414  16.16161616  18.18181818\n",
      "  20.2020202   22.22222222  24.24242424  26.26262626  28.28282828\n",
      "  30.3030303   32.32323232  34.34343434  36.36363636  38.38383838\n",
      "  40.4040404   42.42424242  44.44444444  46.46464646  48.48484848\n",
      "  50.50505051  52.52525253  54.54545455  56.56565657  58.58585859\n",
      "  60.60606061  62.62626263  64.64646465  66.66666667  68.68686869\n",
      "  70.70707071  72.72727273  74.74747475  76.76767677  78.78787879\n",
      "  80.80808081  82.82828283  84.84848485  86.86868687  88.88888889\n",
      "  90.90909091  92.92929293  94.94949495  96.96969697  98.98989899\n",
      " 101.01010101 103.03030303 105.05050505 107.07070707 109.09090909\n",
      " 111.11111111 113.13131313 115.15151515 117.17171717 119.19191919\n",
      " 121.21212121 123.23232323 125.25252525 127.27272727 129.29292929\n",
      " 131.31313131 133.33333333 135.35353535 137.37373737 139.39393939\n",
      " 141.41414141 143.43434343 145.45454545 147.47474747 149.49494949\n",
      " 151.51515152 153.53535354 155.55555556 157.57575758 159.5959596\n",
      " 161.61616162 163.63636364 165.65656566 167.67676768 169.6969697\n",
      " 171.71717172 173.73737374 175.75757576 177.77777778 179.7979798\n",
      " 181.81818182 183.83838384 185.85858586 187.87878788 189.8989899\n",
      " 191.91919192 193.93939394 195.95959596 197.97979798 200.        ]\n",
      "[  0.   2.   4.   6.   8.  10.  12.  14.  16.  18.  20.  22.  24.  26.\n",
      "  28.  30.  32.  34.  36.  38.  40.  42.  44.  46.  48.  50.  52.  54.\n",
      "  56.  58.  60.  62.  64.  66.  68.  70.  72.  74.  76.  78.  80.  82.\n",
      "  84.  86.  88.  90.  92.  94.  96.  98. 100. 102. 104. 106. 108. 110.\n",
      " 112. 114. 116. 118. 120. 122. 124. 126. 128. 130. 132. 134. 136. 138.\n",
      " 140. 142. 144. 146. 148. 150. 152. 154. 156. 158. 160. 162. 164. 166.\n",
      " 168. 170. 172. 174. 176. 178. 180. 182. 184. 186. 188. 190. 192. 194.\n",
      " 196. 198.]\n"
     ]
    }
   ],
   "source": [
    "# Linspace\n",
    "# numpy.linspace(start, stop, num, endpoint)\n",
    "# Here,\n",
    "# Start: Starting value of the sequence\n",
    "# Stop: End value of the sequence\n",
    "# Num: Number of samples to generate. Default is 50\n",
    "# Endpoint: If True (default), stop is the last value. If False, stop value is not included.\n",
    "\n",
    "a=np.linspace(0,200,100,True)\n",
    "b=np.linspace(0,200,100,False)\n",
    "print(a)\n",
    "print(b)\n",
    "\n"
   ]
  },
  {
   "cell_type": "code",
   "execution_count": 73,
   "metadata": {},
   "outputs": [
    {
     "data": {
      "text/plain": [
       "array([10.])"
      ]
     },
     "execution_count": 73,
     "metadata": {},
     "output_type": "execute_result"
    }
   ],
   "source": [
    "# Logspace\n",
    "# numpy.logspace(start, stop, num, endpoint)\n",
    "\n",
    "a=np.logspace(1,10,1,False)\n",
    "a"
   ]
  },
  {
   "cell_type": "code",
   "execution_count": 74,
   "metadata": {},
   "outputs": [
    {
     "name": "stdout",
     "output_type": "stream",
     "text": [
      "4\n",
      "8\n",
      "16\n"
     ]
    }
   ],
   "source": [
    "# Item Size\n",
    "import numpy as np \n",
    "x = np.array([(1,2,3), (4,5,6)] )\n",
    "a=x.itemsize\t\n",
    "y = np.array([(1,2,3), (4,5,6)], dtype=np.complex64)\n",
    "b=y.itemsize\n",
    "z = np.array([(1,2,3), (4,5,6)] , dtype=np.complex128)\n",
    "e=z.itemsize\n",
    "print(a)\n",
    "print(b)\n",
    "print(e)\t"
   ]
  },
  {
   "cell_type": "code",
   "execution_count": 75,
   "metadata": {},
   "outputs": [
    {
     "name": "stdout",
     "output_type": "stream",
     "text": [
      "[1 2 3]\n",
      "[4 5 6]\n"
     ]
    }
   ],
   "source": [
    "# slicing \n",
    "c=x[0]\n",
    "print(c)\n",
    "d=x[1]\n",
    "print(d)"
   ]
  },
  {
   "cell_type": "code",
   "execution_count": 76,
   "metadata": {},
   "outputs": [
    {
     "name": "stdout",
     "output_type": "stream",
     "text": [
      "Second column: 5\n"
     ]
    }
   ],
   "source": [
    "print('Second column:', x[1,1])\t"
   ]
  },
  {
   "cell_type": "code",
   "execution_count": 77,
   "metadata": {},
   "outputs": [
    {
     "name": "stdout",
     "output_type": "stream",
     "text": [
      "[-0.7256904  -0.04479605  0.71623878 -0.14848867  1.08802332]\n",
      "-0.7256903979574091\n",
      "1.0880233221100881\n",
      "0.17705739611449894\n",
      "-0.044796050457838285\n",
      "0.646641825423712\n"
     ]
    }
   ],
   "source": [
    "# Min , Max Mean , Median , Std \n",
    "a=np.random.normal(0,1,5)\n",
    "print(a)\n",
    "print(np.min(a))\n",
    "print(np.max(a))\n",
    "print(np.mean(a))\n",
    "print(np.median(a))\n",
    "print(np.std(a))"
   ]
  },
  {
   "cell_type": "code",
   "execution_count": 78,
   "metadata": {},
   "outputs": [
    {
     "name": "stdout",
     "output_type": "stream",
     "text": [
      "32\n"
     ]
    }
   ],
   "source": [
    "# Dot product.\n",
    "a=np.array([1,2,3])\n",
    "b=np.array([4,5,6])\n",
    "c=np.dot(a,b)\n",
    "print(c)"
   ]
  },
  {
   "cell_type": "code",
   "execution_count": 79,
   "metadata": {},
   "outputs": [
    {
     "name": "stdout",
     "output_type": "stream",
     "text": [
      "[[1, 2], [4, 6]]\n",
      "[[1, 2], [4, 6]]\n",
      "[[ 9 14]\n",
      " [28 44]]\n"
     ]
    }
   ],
   "source": [
    "# Matmul\n",
    "a=[[1,2],[4,6]]\n",
    "b=[[1,2],[4,6]]\n",
    "print(a)\n",
    "print(b)\n",
    "c=np.matmul ( a , b )\n",
    "print(c)\n",
    "\n"
   ]
  },
  {
   "cell_type": "code",
   "execution_count": 80,
   "metadata": {},
   "outputs": [
    {
     "name": "stdout",
     "output_type": "stream",
     "text": [
      "[[-3.   1. ]\n",
      " [ 2.  -0.5]]\n"
     ]
    }
   ],
   "source": [
    "# Inverse of the array\n",
    "a=[[1,2],[4,6]]\n",
    "b=np.linalg.inv(a)\n",
    "print(b)"
   ]
  },
  {
   "cell_type": "code",
   "execution_count": 81,
   "metadata": {},
   "outputs": [
    {
     "name": "stdout",
     "output_type": "stream",
     "text": [
      "-2.0\n"
     ]
    }
   ],
   "source": [
    "# Determinat of the metrix\n",
    "\n",
    "a=[[1,2],[4,6]]\n",
    "b=np.linalg.det(a)\n",
    "print(b)"
   ]
  },
  {
   "cell_type": "code",
   "execution_count": 82,
   "metadata": {},
   "outputs": [
    {
     "data": {
      "text/plain": [
       "2"
      ]
     },
     "execution_count": 82,
     "metadata": {},
     "output_type": "execute_result"
    }
   ],
   "source": [
    "#Matric rank\n",
    "\n",
    "a=[[1,2],[4,6]]\n",
    "b=np.linalg.matrix_rank(a)\n",
    "b"
   ]
  },
  {
   "cell_type": "code",
   "execution_count": 83,
   "metadata": {},
   "outputs": [
    {
     "data": {
      "text/plain": [
       "array([[182113, 285686],\n",
       "       [571372, 896328]])"
      ]
     },
     "execution_count": 83,
     "metadata": {},
     "output_type": "execute_result"
    }
   ],
   "source": [
    "#Matric power\n",
    "\n",
    "a=[[1,2],[4,6]]\n",
    "b=np.linalg.matrix_power(a,7)\n",
    "b"
   ]
  },
  {
   "cell_type": "code",
   "execution_count": 84,
   "metadata": {},
   "outputs": [
    {
     "name": "stdout",
     "output_type": "stream",
     "text": [
      "(array([ 1.61168440e+01, -1.11684397e+00, -9.75918483e-16]), array([[-0.23197069, -0.78583024,  0.40824829],\n",
      "       [-0.52532209, -0.08675134, -0.81649658],\n",
      "       [-0.8186735 ,  0.61232756,  0.40824829]]))\n",
      "(array([-3.15746784, -0.67276795, 18.8302358 ]), array([[-0.80238891,  0.43402538, -0.40962667],\n",
      "       [-0.16812656, -0.82296167, -0.54264865],\n",
      "       [ 0.57263033,  0.36654613, -0.73330651]]))\n",
      "[ 1.61168440e+01 -1.11684397e+00 -9.75918483e-16]\n",
      "[-3.15746784 -0.67276795 18.8302358 ]\n"
     ]
    }
   ],
   "source": [
    "a=[[1,2,3],[4,5,6],[7,8,9]]\n",
    "b=np.linalg.eig(a)\n",
    "c=np.linalg.eigh(a)\n",
    "d=np.linalg.eigvals(a)\n",
    "e=np.linalg.eigvalsh(a)\n",
    "print(b)\n",
    "print(c)\n",
    "print(d)\n",
    "print(e)"
   ]
  },
  {
   "cell_type": "code",
   "execution_count": 85,
   "metadata": {},
   "outputs": [
    {
     "data": {
      "text/plain": [
       "array([1, 5, 9])"
      ]
     },
     "execution_count": 85,
     "metadata": {},
     "output_type": "execute_result"
    }
   ],
   "source": [
    "# diagonal metrix\n",
    "a=[[1,2,3],[4,5,6],[7,8,9]]\n",
    "b=np.diagonal(a)\n",
    "b"
   ]
  },
  {
   "cell_type": "code",
   "execution_count": 86,
   "metadata": {},
   "outputs": [
    {
     "data": {
      "text/plain": [
       "array([[1, 4, 7],\n",
       "       [2, 5, 8],\n",
       "       [3, 6, 9]])"
      ]
     },
     "execution_count": 86,
     "metadata": {},
     "output_type": "execute_result"
    }
   ],
   "source": [
    "# Transpose of a metrix\n",
    "a=[[1,2,3],[4,5,6],[7,8,9]]\n",
    "b=np.transpose(a)\n",
    "b"
   ]
  },
  {
   "cell_type": "code",
   "execution_count": 87,
   "metadata": {},
   "outputs": [
    {
     "data": {
      "text/plain": [
       "15"
      ]
     },
     "execution_count": 87,
     "metadata": {},
     "output_type": "execute_result"
    }
   ],
   "source": [
    "# Trace of a metrix\n",
    "a=[[1,2,3],[4,5,6],[7,8,9]]\n",
    "b=np.trace(a)\n",
    "b"
   ]
  }
 ],
 "metadata": {
  "interpreter": {
   "hash": "23300995598eec4bcf6bd89cf02d1c3675e8b2616661418dbbf5580aa901878d"
  },
  "kernelspec": {
   "display_name": "Python 3.9.6 64-bit",
   "language": "python",
   "name": "python3"
  },
  "language_info": {
   "codemirror_mode": {
    "name": "ipython",
    "version": 3
   },
   "file_extension": ".py",
   "mimetype": "text/x-python",
   "name": "python",
   "nbconvert_exporter": "python",
   "pygments_lexer": "ipython3",
   "version": "3.9.6"
  },
  "orig_nbformat": 4
 },
 "nbformat": 4,
 "nbformat_minor": 2
}
